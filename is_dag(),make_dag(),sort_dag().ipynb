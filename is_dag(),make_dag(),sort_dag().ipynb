{
 "cells": [
  {
   "cell_type": "code",
   "execution_count": 1,
   "id": "7c402067",
   "metadata": {},
   "outputs": [],
   "source": [
    "import numpy as np\n",
    "import sys"
   ]
  },
  {
   "cell_type": "code",
   "execution_count": 2,
   "id": "7cadecdf",
   "metadata": {},
   "outputs": [],
   "source": [
    "def is_dag(A):\n",
    "    A = np.array(A)\n",
    "    node_order = []\n",
    "    visited = [False]*A.shape[0]\n",
    "    def get_rootnode(A):\n",
    "        arr =np.sum(A, axis = 0)\n",
    "        arr_sorted = np.argsort(arr)\n",
    "        for i in range(A.shape[0]):\n",
    "            if arr[arr_sorted[i]] ==0 and (visited[arr_sorted[i]])==False:\n",
    "                return arr_sorted[i]\n",
    "    def update(j,A):\n",
    "        A[j]= np.zeros((1,A.shape[0]))\n",
    "        node_order.append(j)\n",
    "        visited[j]= True\n",
    "        return A\n",
    "    for i in range(A.shape[0]):\n",
    "        idx = get_rootnode(A)\n",
    "        if idx == None:\n",
    "            print(\"It isn't a dag\")\n",
    "            break\n",
    "        else:\n",
    "            A_upd = update(idx,A)\n",
    "            A = A_upd\n",
    "    if len(node_order)== A.shape[0]:\n",
    "        print(\"it's a dag!\")\n",
    "        print(\"node_ordering\",node_order)#considering the first node as 0 and last node as n-1\n",
    "        return 0\n",
    "    else:\n",
    "        return -1"
   ]
  },
  {
   "cell_type": "code",
   "execution_count": 3,
   "id": "305a50cc",
   "metadata": {},
   "outputs": [],
   "source": [
    "#duplicate\n",
    "def is_dag_(A):\n",
    "    A = np.array(A)\n",
    "    node_order = []\n",
    "    visited = [False]*A.shape[0]\n",
    "    def get_rootnode(A):\n",
    "        arr =np.sum(A, axis = 0)\n",
    "        arr_sorted = np.argsort(arr)\n",
    "        for i in range(A.shape[0]):\n",
    "            if arr[arr_sorted[i]] ==0 and (visited[arr_sorted[i]])==False:\n",
    "                return arr_sorted[i]\n",
    "    def update(j,A):\n",
    "        A[j]= np.zeros((1,A.shape[0]))\n",
    "        node_order.append(j)\n",
    "        visited[j]= True\n",
    "        return A\n",
    "    for i in range(A.shape[0]):\n",
    "        idx = get_rootnode(A)\n",
    "        if idx == None:\n",
    "            #print(\"It isn't a dag\")\n",
    "            break\n",
    "        else:\n",
    "            A_upd = update(idx,A)\n",
    "            A = A_upd\n",
    "    if len(node_order)== A.shape[0]:\n",
    "        #print(\"it's a dag!\")\n",
    "        #print(\"node_ordering\",node_order)#considering the first node as 0 and last node as n-1\n",
    "        return 0\n",
    "    else:\n",
    "        return -1"
   ]
  },
  {
   "cell_type": "markdown",
   "id": "b598aed6",
   "metadata": {},
   "source": [
    "# make_dag()"
   ]
  },
  {
   "cell_type": "code",
   "execution_count": 4,
   "id": "52b8a709",
   "metadata": {},
   "outputs": [
    {
     "name": "stdout",
     "output_type": "stream",
     "text": [
      "It isn't a dag\n"
     ]
    },
    {
     "data": {
      "text/plain": [
       "-1"
      ]
     },
     "execution_count": 4,
     "metadata": {},
     "output_type": "execute_result"
    }
   ],
   "source": [
    "A = np.matrix(\"0 0 1 0 1 0 0; 1 0 1 0 0 0 0;0 0 0 0 1 0 0;0 0 0 0 0 1 0; 0 0 0 0 0 0 0;0 0 0 0 0 0 1;0 0 0 1 0 0 0\")\n",
    "A = np.array(A)\n",
    "#check whether it's a dag or not\n",
    "is_dag(A)"
   ]
  },
  {
   "cell_type": "code",
   "execution_count": 5,
   "id": "6e9d3c83",
   "metadata": {},
   "outputs": [],
   "source": [
    "def make_dag(A):\n",
    "    def dfs_func(node,count):\n",
    "        if visited[node]==False:\n",
    "            visited[node]= True\n",
    "            node_order.append(node)\n",
    "            components[node]=count\n",
    "            neighbors_in = list(zip(A[:,node],[j for j in range(A.shape[0])]))\n",
    "            nxt_node_in = [b for a,b in neighbors_in if a>0]\n",
    "            neighbors_out = list(zip(A[node],[j for j in range(A.shape[0])]))\n",
    "            nxt_node_out = [b for a,b in neighbors_out if a>0]\n",
    "            if all([visited[i] for i in nxt_node_out])==False:\n",
    "                for j in nxt_node_in:\n",
    "                    dfs_func(j,count)\n",
    "            for i in nxt_node_out:\n",
    "                if visited[i]!= True:\n",
    "                    dfs_func(i,count)\n",
    "    def get_components_dg(A):\n",
    "        count = 0\n",
    "        for i in range(A.shape[0]):\n",
    "            if visited[i]==False:\n",
    "                count+=1\n",
    "                dfs_func(i,count)\n",
    "        return count,components\n",
    "    visited = [False]*A.shape[0]\n",
    "    components = [-1]*A.shape[0]\n",
    "    node_order= []\n",
    "    temp,comp =get_components_dg(A)\n",
    "    segregated_components = [[] for i in range(temp)]\n",
    "    for i in range(len(comp)):\n",
    "        segregated_components[comp[i]-1].append(i)\n",
    "    segregated_components\n",
    "    matrix_store = []\n",
    "    for i in range(len(segregated_components)):\n",
    "        B_i = np.delete(A,list(set([i for i in range(A.shape[0])])-set(segregated_components[i])),1)\n",
    "        matrix_store.append(np.delete(B_i,list(set([i for i in range(A.shape[0])])-set(segregated_components[i])),0))\n",
    "    edge_remove = 0\n",
    "    for i in range(len(segregated_components)):\n",
    "        edge_remove+=is_dag_(matrix_store[i])\n",
    "        if is_dag_(matrix_store[i])==-1:\n",
    "            k = i\n",
    "            print(\"Remove an edge from \"+ str(i+1)+ \"th component as it is cyclic\")\n",
    "    print(\"Remove \" + str(abs(edge_remove))+ \" minimum number of edges in total from the graph to form dag\")\n",
    "    #Removing an edge from main graph\n",
    "    for i in range(A.shape[0]):\n",
    "        if A[segregated_components[k][0]][i]==1:\n",
    "            A[segregated_components[k][0]][i] = 0\n",
    "            break\n",
    "    return A\n",
    "        "
   ]
  },
  {
   "cell_type": "code",
   "execution_count": 6,
   "id": "47bbc700",
   "metadata": {},
   "outputs": [
    {
     "name": "stdout",
     "output_type": "stream",
     "text": [
      "Remove an edge from 2th component as it is cyclic\n",
      "Remove 1 minimum number of edges in total from the graph to form dag\n"
     ]
    }
   ],
   "source": [
    "dag_graph = make_dag(A)\n"
   ]
  },
  {
   "cell_type": "code",
   "execution_count": 7,
   "id": "fc414e90",
   "metadata": {},
   "outputs": [
    {
     "name": "stdout",
     "output_type": "stream",
     "text": [
      "it's a dag!\n",
      "node_ordering [1, 0, 2, 4, 5, 6, 3]\n"
     ]
    },
    {
     "data": {
      "text/plain": [
       "0"
      ]
     },
     "execution_count": 7,
     "metadata": {},
     "output_type": "execute_result"
    }
   ],
   "source": [
    "#Verification\n",
    "is_dag(dag_graph)"
   ]
  },
  {
   "cell_type": "markdown",
   "id": "913d866c",
   "metadata": {},
   "source": [
    "# sort_dag()"
   ]
  },
  {
   "cell_type": "code",
   "execution_count": 8,
   "id": "6181891f",
   "metadata": {},
   "outputs": [
    {
     "data": {
      "text/plain": [
       "matrix([[0, 1, 1, 0, 0, 0, 0],\n",
       "        [0, 0, 1, 0, 0, 1, 0],\n",
       "        [0, 0, 0, 1, 0, 0, 0],\n",
       "        [0, 0, 0, 0, 0, 0, 0],\n",
       "        [0, 0, 0, 0, 0, 0, 0],\n",
       "        [0, 0, 0, 1, 1, 0, 0],\n",
       "        [0, 1, 0, 0, 0, 1, 0]])"
      ]
     },
     "execution_count": 8,
     "metadata": {},
     "output_type": "execute_result"
    }
   ],
   "source": [
    "A = np.matrix(\"0 1 1 0 0 0 0;0 0 1 0 0 1 0;0 0 0 1 0 0 0; 0 0 0 0 0 0 0;0 0 0 0 0 0 0;0 0 0 1 1 0 0;0 1 0 0 0 1 0\")\n",
    "A"
   ]
  },
  {
   "cell_type": "code",
   "execution_count": 9,
   "id": "1c88320f",
   "metadata": {},
   "outputs": [],
   "source": [
    "def sort_dag(A):\n",
    "    A = np.array(A)\n",
    "    node_order = []\n",
    "    visited = [False]*A.shape[0]\n",
    "    def get_rootnode(A):\n",
    "        arr =np.sum(A, axis = 0)\n",
    "        arr_sorted = np.argsort(arr)\n",
    "        for i in range(A.shape[0]):\n",
    "            if arr[arr_sorted[i]] ==0 and (visited[arr_sorted[i]])==False:\n",
    "                return arr_sorted[i]\n",
    "    def update(j,A):\n",
    "        A[j]= np.zeros((1,A.shape[0]))\n",
    "        node_order.append(j)\n",
    "        visited[j]= True\n",
    "        return A\n",
    "    for i in range(A.shape[0]):\n",
    "        idx = get_rootnode(A)\n",
    "        if idx == None:\n",
    "            print(\"It isn't a dag\")\n",
    "            break\n",
    "        else:\n",
    "            A_upd = update(idx,A)\n",
    "            A = A_upd\n",
    "    return node_order"
   ]
  },
  {
   "cell_type": "code",
   "execution_count": 10,
   "id": "93c3e88c",
   "metadata": {},
   "outputs": [
    {
     "data": {
      "text/plain": [
       "[0, 6, 1, 2, 5, 3, 4]"
      ]
     },
     "execution_count": 10,
     "metadata": {},
     "output_type": "execute_result"
    }
   ],
   "source": [
    "sort_dag(A)"
   ]
  },
  {
   "cell_type": "markdown",
   "id": "6df07e6e",
   "metadata": {},
   "source": [
    "# Bonus Question"
   ]
  },
  {
   "cell_type": "markdown",
   "id": "3a59b048",
   "metadata": {},
   "source": [
    "Yes, its H=G \n",
    "Because make_dag(G)=G\n",
    "and it's already sorted"
   ]
  }
 ],
 "metadata": {
  "kernelspec": {
   "display_name": "Python 3 (ipykernel)",
   "language": "python",
   "name": "python3"
  },
  "language_info": {
   "codemirror_mode": {
    "name": "ipython",
    "version": 3
   },
   "file_extension": ".py",
   "mimetype": "text/x-python",
   "name": "python",
   "nbconvert_exporter": "python",
   "pygments_lexer": "ipython3",
   "version": "3.9.12"
  }
 },
 "nbformat": 4,
 "nbformat_minor": 5
}
