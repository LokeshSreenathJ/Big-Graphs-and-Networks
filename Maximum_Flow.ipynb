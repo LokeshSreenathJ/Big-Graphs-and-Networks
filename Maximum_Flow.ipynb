{
 "cells": [
  {
   "cell_type": "code",
   "execution_count": 1,
   "id": "aa3022eb",
   "metadata": {},
   "outputs": [],
   "source": [
    "import numpy as np\n",
    "import pandas as pd\n",
    "import networkx as nx\n",
    "import sys"
   ]
  },
  {
   "cell_type": "markdown",
   "id": "a5ddc867",
   "metadata": {},
   "source": [
    "input dataset: http://snap.stanford.edu/data/soc-sign-bitcoin-otc.html"
   ]
  },
  {
   "cell_type": "code",
   "execution_count": 2,
   "id": "994369a8",
   "metadata": {},
   "outputs": [],
   "source": [
    "df = np.array(pd.read_excel(\"datafile_bitcoin.xlsx\", sheet_name = \"updated_edges\"))"
   ]
  },
  {
   "cell_type": "code",
   "execution_count": 3,
   "id": "14895c97",
   "metadata": {},
   "outputs": [
    {
     "data": {
      "text/plain": [
       "array([[   6,    2,    4],\n",
       "       [   6,    5,    2],\n",
       "       [   1,   15,    1],\n",
       "       ...,\n",
       "       [  41, 1052,    1],\n",
       "       [  13, 1128,    1],\n",
       "       [1128,   13,    2]], dtype=int64)"
      ]
     },
     "execution_count": 3,
     "metadata": {},
     "output_type": "execute_result"
    }
   ],
   "source": [
    "edge_list = df[:,:3]\n",
    "edge_list"
   ]
  },
  {
   "cell_type": "code",
   "execution_count": 4,
   "id": "edeaecbf",
   "metadata": {},
   "outputs": [],
   "source": [
    "node_values = np.array(pd.read_excel(\"datafile_bitcoin.xlsx\", sheet_name = 1))"
   ]
  },
  {
   "cell_type": "code",
   "execution_count": 5,
   "id": "a4a777fb",
   "metadata": {},
   "outputs": [],
   "source": [
    "node_values_upd = [i for i in node_values if i<=2000]"
   ]
  },
  {
   "cell_type": "code",
   "execution_count": 6,
   "id": "58dba509",
   "metadata": {},
   "outputs": [],
   "source": [
    "g = nx.DiGraph()"
   ]
  },
  {
   "cell_type": "code",
   "execution_count": 7,
   "id": "fa0fd61a",
   "metadata": {},
   "outputs": [],
   "source": [
    "#adding nodes\n",
    "for j in node_values_upd:\n",
    "    g.add_node(int(j))"
   ]
  },
  {
   "cell_type": "code",
   "execution_count": 8,
   "id": "3ba9784a",
   "metadata": {},
   "outputs": [
    {
     "data": {
      "text/plain": [
       "1954"
      ]
     },
     "execution_count": 8,
     "metadata": {},
     "output_type": "execute_result"
    }
   ],
   "source": [
    "g.number_of_nodes()"
   ]
  },
  {
   "cell_type": "code",
   "execution_count": 9,
   "id": "0899b653",
   "metadata": {},
   "outputs": [],
   "source": [
    "for i in df:\n",
    "    source, dest, weight ,_ = i\n",
    "    g.add_edge(source,dest)\n",
    "    g.add_edge(dest,source)\n",
    "    g[dest][source][\"w\"]=0\n",
    "    g[source][dest][\"w\"]=0"
   ]
  },
  {
   "cell_type": "code",
   "execution_count": 10,
   "id": "13b86f18",
   "metadata": {},
   "outputs": [],
   "source": [
    "#adding edges and assigning weights\n",
    "count = 0\n",
    "for i in df:\n",
    "    source, dest, weight, _ = i\n",
    "    if weight >0:\n",
    "        g.add_edge(source,dest)\n",
    "        g[source][dest][\"w\"]= weight"
   ]
  },
  {
   "cell_type": "code",
   "execution_count": 11,
   "id": "10a17630",
   "metadata": {},
   "outputs": [],
   "source": [
    "def max_flow_new(G, source, dest):\n",
    "    flow = 0\n",
    "    def augmenting_path(G, source, dest):\n",
    "        path = []\n",
    "        seq = [(source, [source])]\n",
    "        while seq:\n",
    "            (node, path) = seq.pop(0)\n",
    "            for neighbor, capacity in G[node].items():\n",
    "                if capacity[\"w\"] > 0 and neighbor not in path:\n",
    "                    if neighbor == dest:\n",
    "                        return path + [neighbor]\n",
    "                    else:\n",
    "                        seq.append((neighbor, path + [neighbor]))\n",
    "        return None\n",
    "    ls = []\n",
    "    x = 0\n",
    "    val =0\n",
    "    for edge_count in range(g.number_of_edges()):\n",
    "        path = augmenting_path(G, source, dest)\n",
    "        if x>val:\n",
    "            val = x\n",
    "            ls = path\n",
    "        if path:\n",
    "            x = sys.maxsize\n",
    "            for i in range(len(path)-1):\n",
    "                if g[path[i]][path[i+1]][\"w\"]<x:\n",
    "                    x = g[path[i]][path[i+1]][\"w\"]\n",
    "            for i in range(len(path)-1):\n",
    "                g[path[i]][path[i+1]][\"w\"]-=x\n",
    "                g[path[i+1]][path[i]][\"w\"]+=x\n",
    "            iter_flow = x\n",
    "            flow = flow+ x\n",
    "            \n",
    "\n",
    "        else:\n",
    "            print(\"Maximum flow possible from \"+ str(source)+ \" to \"+ str(dest)+ \" : \" + str(flow))\n",
    "            print(\"No more augumeted paths!\")\n",
    "            print(ls)\n",
    "            break"
   ]
  },
  {
   "cell_type": "code",
   "execution_count": 12,
   "id": "4d681452",
   "metadata": {},
   "outputs": [
    {
     "name": "stdout",
     "output_type": "stream",
     "text": [
      "Maximum flow possible from 35 to 7 : 220\n",
      "No more augumeted paths!\n",
      "[35, 322, 7]\n"
     ]
    }
   ],
   "source": [
    "max_flow_new(g,35,7)\n"
   ]
  }
 ],
 "metadata": {
  "kernelspec": {
   "display_name": "Python 3 (ipykernel)",
   "language": "python",
   "name": "python3"
  },
  "language_info": {
   "codemirror_mode": {
    "name": "ipython",
    "version": 3
   },
   "file_extension": ".py",
   "mimetype": "text/x-python",
   "name": "python",
   "nbconvert_exporter": "python",
   "pygments_lexer": "ipython3",
   "version": "3.9.12"
  }
 },
 "nbformat": 4,
 "nbformat_minor": 5
}
