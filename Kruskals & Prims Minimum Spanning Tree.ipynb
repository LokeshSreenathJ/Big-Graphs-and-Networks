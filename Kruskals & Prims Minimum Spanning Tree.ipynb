{
 "cells": [
  {
   "cell_type": "code",
   "execution_count": 1,
   "id": "835b4938",
   "metadata": {},
   "outputs": [],
   "source": [
    "import networkx as nx\n",
    "import numpy as np\n",
    "import sys"
   ]
  },
  {
   "cell_type": "markdown",
   "id": "c3909cdb",
   "metadata": {},
   "source": [
    "input source file: http://konect.cc/networks/adjnoun_adjacency/"
   ]
  },
  {
   "cell_type": "code",
   "execution_count": 2,
   "id": "6eb81526",
   "metadata": {},
   "outputs": [],
   "source": [
    "g = nx.read_gml(\"adjnoun.gml\")"
   ]
  },
  {
   "cell_type": "code",
   "execution_count": 3,
   "id": "e02f2ac9",
   "metadata": {},
   "outputs": [
    {
     "data": {
      "text/plain": [
       "1"
      ]
     },
     "execution_count": 3,
     "metadata": {},
     "output_type": "execute_result"
    }
   ],
   "source": [
    "node_dict = dict(zip(range(112),g.nodes))\n",
    "key_list = list(node_dict.keys())\n",
    "value_list = list(node_dict.values())\n",
    "idx = key_list.index(0)\n",
    "value_list.index(\"man\")"
   ]
  },
  {
   "cell_type": "code",
   "execution_count": 4,
   "id": "431fd3e2",
   "metadata": {},
   "outputs": [
    {
     "data": {
      "text/plain": [
       "112"
      ]
     },
     "execution_count": 4,
     "metadata": {},
     "output_type": "execute_result"
    }
   ],
   "source": [
    "g.number_of_nodes()"
   ]
  },
  {
   "cell_type": "code",
   "execution_count": null,
   "id": "09c4dea8",
   "metadata": {},
   "outputs": [],
   "source": [
    "g.number_of_edges()"
   ]
  },
  {
   "cell_type": "markdown",
   "id": "359b8857",
   "metadata": {},
   "source": [
    "# Finding Node-Adjacency Matrix"
   ]
  },
  {
   "cell_type": "code",
   "execution_count": 6,
   "id": "5d7464f4",
   "metadata": {},
   "outputs": [],
   "source": [
    "def get_node_adj_matrix_undirected(g):\n",
    "    node_adj_matrix = np.zeros((g.number_of_nodes(),g.number_of_nodes()))\n",
    "    zip_values = dict(zip(list(g.nodes),range(0,g.number_of_nodes())))\n",
    "    for i,idx1 in list((zip(list(g.nodes),range(0,112)))):\n",
    "        for idx2, j in enumerate(g.edges):\n",
    "            if i==j[0]:\n",
    "                node_adj_matrix[idx1][zip_values[j[1]]]=1\n",
    "                node_adj_matrix[zip_values[j[1]]][idx1]=1\n",
    "    return node_adj_matrix    "
   ]
  },
  {
   "cell_type": "code",
   "execution_count": 7,
   "id": "d81815f5",
   "metadata": {},
   "outputs": [],
   "source": [
    "mat =(get_node_adj_matrix_undirected(g))"
   ]
  },
  {
   "cell_type": "markdown",
   "id": "3baf86cc",
   "metadata": {},
   "source": [
    "# Verifying if Graph is connected or not!"
   ]
  },
  {
   "cell_type": "code",
   "execution_count": 8,
   "id": "49f5946e",
   "metadata": {},
   "outputs": [],
   "source": [
    "def is_graph_connected(g):\n",
    "    visited = [False]*112\n",
    "    def depth_first_search(g,v):\n",
    "        visited[v]= True\n",
    "        for i in g.neighbors(node_dict[v]):\n",
    "            if visited[value_list.index(i)]==False:\n",
    "                depth_first_search(g,value_list.index(i))\n",
    "        return np.array(visited)\n",
    "    if np.mean(depth_first_search(g,0)) == 1:\n",
    "        return \"It's a connected graph!\"\n",
    "    else:\n",
    "        return \"Not connected\""
   ]
  },
  {
   "cell_type": "code",
   "execution_count": 9,
   "id": "92903cf3",
   "metadata": {},
   "outputs": [
    {
     "data": {
      "text/plain": [
       "\"It's a connected graph!\""
      ]
     },
     "execution_count": 9,
     "metadata": {},
     "output_type": "execute_result"
    }
   ],
   "source": [
    "is_graph_connected(g)"
   ]
  },
  {
   "cell_type": "code",
   "execution_count": 10,
   "id": "d80e395d",
   "metadata": {},
   "outputs": [],
   "source": [
    "def median_degree_of_nodes(g):\n",
    "    node_matrix = get_node_adj_matrix_undirected(g)\n",
    "    in_deg = np.sum(node_matrix, axis = 1)\n",
    "    sorted_deg = np.sort(np.array(in_deg))\n",
    "    if len(g.nodes)%2 == 0:\n",
    "        return float((sorted_deg[int(len(g.nodes)/2)]+sorted_deg[int((len(g.nodes)/2))-1])/2)\n",
    "    else:\n",
    "        return sorted_deg[int((len(g.nodes)-1)/2)]"
   ]
  },
  {
   "cell_type": "code",
   "execution_count": 11,
   "id": "f626f65f",
   "metadata": {},
   "outputs": [
    {
     "data": {
      "text/plain": [
       "6.0"
      ]
     },
     "execution_count": 11,
     "metadata": {},
     "output_type": "execute_result"
    }
   ],
   "source": [
    "median_degree_of_nodes(g)"
   ]
  },
  {
   "cell_type": "markdown",
   "id": "6253893a",
   "metadata": {},
   "source": [
    "# Finding number of Triangles with in the graph"
   ]
  },
  {
   "cell_type": "code",
   "execution_count": 12,
   "id": "c99ba6f0",
   "metadata": {},
   "outputs": [],
   "source": [
    "def number_of_tri(g):\n",
    "    node_matrix = np.matrix(get_node_adj_matrix_undirected(g))\n",
    "#A^n[i][j] represents how many distinct paths are present with length of n originating from node i and reaching destination j\n",
    "#Here, we are interested in number of triangles. So, length is 3 and since it's a closed polygon source and destination nodes are\n",
    "# same\n",
    "    return (np.trace(node_matrix*node_matrix*node_matrix)/6)\n",
    "# We are dividing by 6, because same triangle can be formed from each node and since it's undirected graph two similar triangles\n",
    "# say a-b-c and c-b-a are formed."
   ]
  },
  {
   "cell_type": "code",
   "execution_count": 13,
   "id": "4aa08a61",
   "metadata": {},
   "outputs": [
    {
     "data": {
      "text/plain": [
       "284.0"
      ]
     },
     "execution_count": 13,
     "metadata": {},
     "output_type": "execute_result"
    }
   ],
   "source": [
    "number_of_tri(g)"
   ]
  },
  {
   "cell_type": "code",
   "execution_count": null,
   "id": "0ea8fdaa",
   "metadata": {},
   "outputs": [],
   "source": []
  },
  {
   "cell_type": "markdown",
   "id": "7dc27511",
   "metadata": {},
   "source": [
    "# Updating the Weights\n",
    "    "
   ]
  },
  {
   "cell_type": "code",
   "execution_count": 14,
   "id": "207ea5fe",
   "metadata": {},
   "outputs": [],
   "source": [
    "node_values= dict((zip(list(g.nodes),range(0,112))))\n",
    "key_list = list(node_values.keys())\n",
    "value_list = list(node_values.values())\n",
    "for i in list(g.edges):\n",
    "    u,v = i\n",
    "    g[u][v][\"w\"]=abs(value_list[key_list.index(u)]-value_list[key_list.index(v)])\n",
    "edges=sorted(g.edges(data=True), key=lambda t: t[2].get('w', 1))\n",
    "edges = np.array(edges)    "
   ]
  },
  {
   "cell_type": "code",
   "execution_count": 15,
   "id": "309c07ad",
   "metadata": {},
   "outputs": [
    {
     "data": {
      "text/plain": [
       "array([['agreeable', 'man', {'w': 1}],\n",
       "       ['man', 'old', {'w': 1}],\n",
       "       ['old', 'person', {'w': 1}],\n",
       "       ...,\n",
       "       ['old', 'same', {'w': 102}],\n",
       "       ['old', 'strong', {'w': 103}],\n",
       "       ['old', 'year', {'w': 109}]], dtype=object)"
      ]
     },
     "execution_count": 15,
     "metadata": {},
     "output_type": "execute_result"
    }
   ],
   "source": [
    "edges"
   ]
  },
  {
   "cell_type": "markdown",
   "id": "fa7ac47e",
   "metadata": {},
   "source": [
    "# Kruskals Algorithm"
   ]
  },
  {
   "cell_type": "code",
   "execution_count": 42,
   "id": "7e917808",
   "metadata": {},
   "outputs": [],
   "source": [
    "def Kruskals(g):\n",
    "    data_tuple = []\n",
    "    edges_list=np.array(sorted(g.edges(data=True), key=lambda t: t[2].get('w', 1)))\n",
    "    for i in edges_list:\n",
    "        u,v,w = i\n",
    "        data_tuple.append((value_list[key_list.index(u)], value_list[key_list.index(v)],g[u][v][\"w\"]))\n",
    "    numVer = len(g.nodes)\n",
    "    def find(main, i):\n",
    "        if main[i] != i:\n",
    "            main[i] = find(main, main[i])\n",
    "        return main[i]\n",
    "    def union(main, order, x, y):\n",
    "        if order[x] < order[y]:\n",
    "            main[x] = y\n",
    "        elif order[x] > order[y]:\n",
    "            main[y] = x\n",
    "        else:\n",
    "            main[y] = x\n",
    "            order[x] += 1\n",
    "    result = [] \n",
    "    i = 0\n",
    "    edgeCount = 0\n",
    "    data_tuple = sorted(data_tuple,key=lambda item: item[2])\n",
    "    main = [i for i in range(len(g.nodes))]\n",
    "    order = [0]*len(g.nodes)\n",
    "    while edgeCount < (len(g.nodes)- 1):\n",
    "        u, v, w = data_tuple[i]\n",
    "        i = i + 1\n",
    "        x = find(main, u)\n",
    "        y = find(main, v)\n",
    "        if x != y:\n",
    "            edgeCount+=1\n",
    "            result.append([u, v, w])\n",
    "            union(main, order, x, y)\n",
    "    minimumCost = 0\n",
    "    for u, v, weight in result:\n",
    "        minimumCost += weight\n",
    "        print(\"Source-node :\" + str(key_list[value_list.index(u)]) + \" destination-node : \" + str(key_list[value_list.index(v)]) + \" cost :\" + str(weight))\n",
    "    print(\"Overall_cost\", minimumCost)"
   ]
  },
  {
   "cell_type": "code",
   "execution_count": 43,
   "id": "82554e65",
   "metadata": {},
   "outputs": [
    {
     "name": "stdout",
     "output_type": "stream",
     "text": [
      "Source-node :agreeable destination-node : man cost :1\n",
      "Source-node :man destination-node : old cost :1\n",
      "Source-node :old destination-node : person cost :1\n",
      "Source-node :anything destination-node : short cost :1\n",
      "Source-node :short destination-node : arm cost :1\n",
      "Source-node :arm destination-node : round cost :1\n",
      "Source-node :aunt destination-node : first cost :1\n",
      "Source-node :bad destination-node : air cost :1\n",
      "Source-node :beautiful destination-node : black cost :1\n",
      "Source-node :best destination-node : course cost :1\n",
      "Source-node :better destination-node : heart cost :1\n",
      "Source-node :place destination-node : right cost :1\n",
      "Source-node :eye destination-node : bright cost :1\n",
      "Source-node :bright destination-node : evening cost :1\n",
      "Source-node :certain destination-node : day cost :1\n",
      "Source-node :other destination-node : child cost :1\n",
      "Source-node :child destination-node : happy cost :1\n",
      "Source-node :dark destination-node : kind cost :1\n",
      "Source-node :dear destination-node : good cost :1\n",
      "Source-node :mother destination-node : pretty cost :1\n",
      "Source-node :general destination-node : fancy cost :1\n",
      "Source-node :large destination-node : new cost :1\n",
      "Source-node :late destination-node : whole cost :1\n",
      "Source-node :light destination-node : manner cost :1\n",
      "Source-node :quiet destination-node : same cost :1\n",
      "Source-node :same destination-node : strong cost :1\n",
      "Source-node :bad destination-node : boy cost :2\n",
      "Source-node :beautiful destination-node : face cost :2\n",
      "Source-node :black destination-node : letter cost :2\n",
      "Source-node :face destination-node : little cost :2\n",
      "Source-node :best destination-node : friend cost :2\n",
      "Source-node :better destination-node : mind cost :2\n",
      "Source-node :bright destination-node : morning cost :2\n",
      "Source-node :certain destination-node : other cost :2\n",
      "Source-node :dark destination-node : night cost :2\n",
      "Source-node :kind destination-node : dear cost :2\n",
      "Source-node :dear destination-node : home cost :2\n",
      "Source-node :general destination-node : voice cost :2\n",
      "Source-node :long destination-node : hand cost :2\n",
      "Source-node :hard destination-node : life cost :2\n",
      "Source-node :large destination-node : white cost :2\n",
      "Source-node :whole destination-node : manner cost :2\n",
      "Source-node :first destination-node : boy cost :3\n",
      "Source-node :young destination-node : friend cost :3\n",
      "Source-node :best destination-node : love cost :3\n",
      "Source-node :better destination-node : place cost :3\n",
      "Source-node :bright destination-node : certain cost :3\n",
      "Source-node :dear destination-node : mother cost :3\n",
      "Source-node :life destination-node : new cost :3\n",
      "Source-node :thought destination-node : nothing cost :3\n",
      "Source-node :nothing destination-node : half cost :3\n",
      "Source-node :strong destination-node : usual cost :3\n",
      "Source-node :little destination-node : friend cost :4\n",
      "Source-node :best destination-node : part cost :4\n",
      "Source-node :home destination-node : early cost :4\n",
      "Source-node :new destination-node : light cost :4\n",
      "Source-node :whole destination-node : house cost :4\n",
      "Source-node :house destination-node : small cost :4\n",
      "Source-node :nothing destination-node : wrong cost :4\n",
      "Source-node :boy destination-node : little cost :5\n",
      "Source-node :best destination-node : room cost :5\n",
      "Source-node :thing destination-node : mind cost :5\n",
      "Source-node :better destination-node : state cost :5\n",
      "Source-node :other destination-node : kind cost :5\n",
      "Source-node :long destination-node : life cost :5\n",
      "Source-node :person destination-node : first cost :6\n",
      "Source-node :best destination-node : thing cost :6\n",
      "Source-node :better destination-node : woman cost :6\n",
      "Source-node :good destination-node : fire cost :6\n",
      "Source-node :great destination-node : voice cost :6\n",
      "Source-node :head destination-node : red cost :6\n",
      "Source-node :best destination-node : time cost :7\n",
      "Source-node :better destination-node : word cost :7\n",
      "Source-node :door destination-node : other cost :7\n",
      "Source-node :round destination-node : face cost :8\n",
      "Source-node :best destination-node : way cost :8\n",
      "Source-node :good destination-node : great cost :8\n",
      "Source-node :red destination-node : light cost :8\n",
      "Source-node :work destination-node : hard cost :9\n",
      "Source-node :hope destination-node : new cost :9\n",
      "Source-node :place destination-node : certain cost :10\n",
      "Source-node :thought destination-node : possible cost :10\n",
      "Source-node :wrong destination-node : something cost :10\n",
      "Source-node :side destination-node : world cost :10\n",
      "Source-node :great destination-node : hand cost :11\n",
      "Source-node :master destination-node : hard cost :11\n",
      "Source-node :manner destination-node : natural cost :13\n",
      "Source-node :open destination-node : hand cost :15\n",
      "Source-node :long destination-node : low cost :16\n",
      "Source-node :new destination-node : nothing cost :16\n",
      "Source-node :manner destination-node : pleasant cost :17\n",
      "Source-node :strange destination-node : something cost :18\n",
      "Source-node :low destination-node : same cost :20\n",
      "Source-node :thing destination-node : common cost :21\n",
      "Source-node :eye destination-node : full cost :21\n",
      "Source-node :whole destination-node : family cost :30\n",
      "Source-node :whole destination-node : world cost :31\n",
      "Source-node :hand destination-node : poor cost :32\n",
      "Source-node :master destination-node : perfect cost :41\n",
      "Source-node :moment destination-node : same cost :43\n",
      "Source-node :heart destination-node : glad cost :45\n",
      "Source-node :part destination-node : greater cost :46\n",
      "Source-node :day destination-node : lost cost :48\n",
      "Source-node :place destination-node : ready cost :55\n",
      "Source-node :little destination-node : bed cost :65\n",
      "Source-node :little destination-node : money cost :68\n",
      "Source-node :woman destination-node : true cost :73\n",
      "Source-node :little destination-node : miserable cost :76\n",
      "Source-node :man destination-node : alone cost :90\n",
      "Source-node :old destination-node : name cost :95\n",
      "Source-node :old destination-node : year cost :109\n",
      "Overall_cost 1419\n"
     ]
    }
   ],
   "source": [
    "Kruskals(g)"
   ]
  },
  {
   "cell_type": "markdown",
   "id": "55a5db6b",
   "metadata": {},
   "source": [
    "# Part d"
   ]
  },
  {
   "cell_type": "code",
   "execution_count": 65,
   "id": "e3e38d24",
   "metadata": {},
   "outputs": [],
   "source": [
    "def prim(g):\n",
    "    visited = [False]*len(g.nodes)\n",
    "    edgeNum = 0\n",
    "    visited[0] = True\n",
    "    mst = []\n",
    "    node_values= dict((zip(list(g.nodes),range(0,112))))\n",
    "    key_list = list(node_values.keys())\n",
    "    value_list = list(node_values.values())\n",
    "    edge_list = list(g.edges)\n",
    "    def is_edge_present(u,v):\n",
    "        if (u,v) in edge_list:\n",
    "            return True\n",
    "        else:\n",
    "            return False\n",
    "    def printmst(mst):\n",
    "        print(\"Edge : Weight\")\n",
    "        for u,v,w in mst:\n",
    "            print((u,v,w))\n",
    "    while edgeNum< (len(g.nodes)-1):\n",
    "        minimum = sys.maxsize\n",
    "        for i in range(len(g.nodes)):\n",
    "            if visited[i]== True:\n",
    "                for j in range(len(g.nodes)):\n",
    "                    if visited[j] == False and is_edge_present(key_list[value_list.index(i)],key_list[value_list.index(j)]) == True:\n",
    "                        if minimum> g[key_list[value_list.index(i)]][key_list[value_list.index(j)]][\"w\"]:\n",
    "                            minimum = g[key_list[value_list.index(i)]][key_list[value_list.index(j)]][\"w\"]\n",
    "                            u = i\n",
    "                            v = j\n",
    "        mst.append((key_list[value_list.index(u)],key_list[value_list.index(v)], g[key_list[value_list.index(u)]][key_list[value_list.index(v)]][\"w\"]))\n",
    "        visited[v] = True\n",
    "        visited[u] = True\n",
    "        edgeNum+=1\n",
    "    printmst(mst)"
   ]
  }
 ],
 "metadata": {
  "kernelspec": {
   "display_name": "Python 3 (ipykernel)",
   "language": "python",
   "name": "python3"
  },
  "language_info": {
   "codemirror_mode": {
    "name": "ipython",
    "version": 3
   },
   "file_extension": ".py",
   "mimetype": "text/x-python",
   "name": "python",
   "nbconvert_exporter": "python",
   "pygments_lexer": "ipython3",
   "version": "3.9.12"
  }
 },
 "nbformat": 4,
 "nbformat_minor": 5
}
