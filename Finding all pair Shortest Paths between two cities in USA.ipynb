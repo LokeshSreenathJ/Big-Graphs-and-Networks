{
 "cells": [
  {
   "cell_type": "code",
   "execution_count": 1,
   "id": "0c0f19a7",
   "metadata": {},
   "outputs": [],
   "source": [
    "import pandas as pd\n",
    "import numpy as np\n",
    "import networkx as nx\n",
    "import sys"
   ]
  },
  {
   "cell_type": "code",
   "execution_count": 2,
   "id": "9c859f7b",
   "metadata": {},
   "outputs": [],
   "source": [
    "distance_matrix = np.array(pd.read_excel(\"Book1.xlsx\",\"distances\", header=None))"
   ]
  },
  {
   "cell_type": "code",
   "execution_count": 3,
   "id": "c2df3a6f",
   "metadata": {},
   "outputs": [],
   "source": [
    "city_names = np.array((pd.read_excel(\"Book1.xlsx\",\"citynames\",header = None)))"
   ]
  },
  {
   "cell_type": "code",
   "execution_count": 4,
   "id": "0387065f",
   "metadata": {},
   "outputs": [],
   "source": [
    "city_nodes = dict(zip(np.squeeze(city_names),[i for i in range(128)]))"
   ]
  },
  {
   "cell_type": "code",
   "execution_count": 5,
   "id": "260c927c",
   "metadata": {},
   "outputs": [],
   "source": [
    "key_list =list(city_nodes.keys())\n",
    "node_list = list(city_nodes.values())"
   ]
  },
  {
   "cell_type": "code",
   "execution_count": 6,
   "id": "b1c6df4b",
   "metadata": {},
   "outputs": [],
   "source": [
    "G = nx.Graph()"
   ]
  },
  {
   "cell_type": "code",
   "execution_count": 7,
   "id": "bbc892db",
   "metadata": {},
   "outputs": [],
   "source": [
    "#adding nodes\n",
    "G.add_nodes_from(np.squeeze(city_names))"
   ]
  },
  {
   "cell_type": "code",
   "execution_count": 8,
   "id": "0d2b05fd",
   "metadata": {},
   "outputs": [],
   "source": [
    "#adding edges:\n",
    "init_matrix = np.zeros((distance_matrix.shape[0],distance_matrix.shape[0]))\n",
    "distance_btw = np.ones((distance_matrix.shape[0],distance_matrix.shape[0]))*sys.maxsize\n",
    "for i in range(distance_matrix.shape[0]):\n",
    "    for j in range(i):\n",
    "        if distance_matrix[i][j]<=100:\n",
    "            G.add_edge(key_list[node_list.index(i)],key_list[node_list.index(j)])\n",
    "            G[key_list[node_list.index(i)]][key_list[node_list.index(j)]][\"d\"]=distance_matrix[i][j]\n",
    "            init_matrix[i][j]=1\n",
    "            init_matrix[j][i]=1\n",
    "            distance_btw[i][j]=distance_matrix[i][j]\n",
    "            distance_btw[j][i]=distance_matrix[i][j]\n",
    "row_values = np.sum(init_matrix, axis =1)\n",
    "col_values = np.sum(init_matrix, axis = 0)\n",
    "rv_zip = list(zip(row_values,[i for i in range(128)]))\n",
    "cv_zip = list(zip(col_values,[i for i in range(128)]))\n",
    "zero_values = set([j for i,j in rv_zip if i==0])\n",
    "zero_col = set([j for i,j in cv_zip if i ==0])\n",
    "get_edge = (zero_values.intersection(zero_col))    \n",
    "for i in get_edge:\n",
    "    idx = np.argsort(distance_matrix[i])\n",
    "    G.add_edge(key_list[node_list.index(i)],key_list[node_list.index(idx[1])])\n",
    "    G[key_list[node_list.index(i)]][key_list[node_list.index(idx[1])]][\"d\"]=distance_matrix[i][idx[1]]\n",
    "    distance_btw[i][idx[1]]=distance_matrix[i][idx[1]]\n",
    "    distance_btw[idx[1]][i]= distance_matrix[i][idx[1]]"
   ]
  },
  {
   "cell_type": "markdown",
   "id": "cfa0fea2",
   "metadata": {},
   "source": [
    "# Dijkstra's algorithm"
   ]
  },
  {
   "cell_type": "code",
   "execution_count": 9,
   "id": "46f81d2c",
   "metadata": {},
   "outputs": [],
   "source": [
    "def dijstra(G,source):\n",
    "    parent = [0]*len(G.nodes)\n",
    "    distance = [sys.maxsize]*len(G.nodes)\n",
    "    visited_set = [False]*len(G.nodes)\n",
    "    parent[key_list.index(source)]= -1\n",
    "    distance[key_list.index(source)]=0\n",
    "    prev_node = 0\n",
    "    node = key_list.index(source)\n",
    "    def get_minimum_distance(distance,visited_set,prev_node):\n",
    "        idx = prev_node\n",
    "        maxi = sys.maxsize\n",
    "        for i in range(len(distance)):\n",
    "            if visited_set[i]==False and distance[i]<maxi:\n",
    "                maxi = distance[i]\n",
    "                idx = i\n",
    "        return idx\n",
    "    for i in range(len(G.nodes)-1):\n",
    "        prev_node = node\n",
    "        node = get_minimum_distance(distance,visited_set,prev_node)\n",
    "        visited_set[node]= True\n",
    "        for j in list(G.neighbors(key_list[node_list.index(node)])):\n",
    "            if (distance[node_list[key_list.index(j)]]>distance[node]+G[key_list[node_list.index(node)]][j][\"d\"]) and (visited_set[node_list[key_list.index(j)]]==False) and (distance[node_list[key_list.index(j)]]>0):\n",
    "                distance[node_list[key_list.index(j)]] = distance[node]+G[key_list[node_list.index(node)]][j][\"d\"]\n",
    "                parent[node_list[key_list.index(j)]]= node\n",
    "    for i in np.argsort(distance):\n",
    "        if distance[i]!=0 and distance[i]!= sys.maxsize:\n",
    "            print(\"Min Distance from :\"+ str(source)+ \" to \"+ str(key_list[i]) + \": \"+ str(distance[i]))\n",
    "    "
   ]
  },
  {
   "cell_type": "code",
   "execution_count": 10,
   "id": "f800bd7b",
   "metadata": {},
   "outputs": [
    {
     "name": "stdout",
     "output_type": "stream",
     "text": [
      "Min Distance from :Springfield, IL to Reading, PA: 72\n",
      "Min Distance from :Springfield, IL to Scranton, PA: 93\n",
      "Min Distance from :Springfield, IL to Ravenna, OH: 106\n",
      "Min Distance from :Springfield, IL to Rochester, NY: 129\n",
      "Min Distance from :Springfield, IL to Wausau, WI: 135\n",
      "Min Distance from :Springfield, IL to Scottsbluff, NB: 159\n",
      "Min Distance from :Springfield, IL to Traverse City, MI: 181\n",
      "Min Distance from :Springfield, IL to Springfield, MO: 186\n",
      "Min Distance from :Springfield, IL to Rock Springs, WY: 187\n",
      "Min Distance from :Springfield, IL to Terre Haute, IN: 193\n",
      "Min Distance from :Springfield, IL to Valdosta, GA: 199\n",
      "Min Distance from :Springfield, IL to Stevens Point, WI: 217\n",
      "Min Distance from :Springfield, IL to Saint Joseph, MI: 243\n",
      "Min Distance from :Springfield, IL to Tulsa, OK: 247\n",
      "Min Distance from :Springfield, IL to Twin Falls, ID: 250\n",
      "Min Distance from :Springfield, IL to Trenton, NJ: 259\n",
      "Min Distance from :Springfield, IL to Wheeling, WV: 262\n",
      "Min Distance from :Springfield, IL to Steubenville, OH: 277\n",
      "Min Distance from :Springfield, IL to Selma, AL: 284\n",
      "Min Distance from :Springfield, IL to Watertown, SD: 291\n",
      "Min Distance from :Springfield, IL to Syracuse, NY: 295\n",
      "Min Distance from :Springfield, IL to Saint Louis, MO: 301\n",
      "Min Distance from :Springfield, IL to Weed, CA: 346\n",
      "Min Distance from :Springfield, IL to Wichita, KS: 347\n",
      "Min Distance from :Springfield, IL to Watertown, NY: 349\n",
      "Min Distance from :Springfield, IL to Richmond, IN: 359\n",
      "Min Distance from :Springfield, IL to Victoria, TX: 366\n",
      "Min Distance from :Springfield, IL to Rhinelander, WI: 369\n",
      "Min Distance from :Springfield, IL to Sault Sainte Marie, MI: 372\n",
      "Min Distance from :Springfield, IL to Seattle, WA: 379\n",
      "Min Distance from :Springfield, IL to Saint Joseph, MO: 380\n",
      "Min Distance from :Springfield, IL to Staunton, VA: 388\n",
      "Min Distance from :Springfield, IL to Tampa, FL: 416\n",
      "Min Distance from :Springfield, IL to Sarasota, FL: 419\n",
      "Min Distance from :Springfield, IL to Washington, DC: 419\n",
      "Min Distance from :Springfield, IL to Rochester, MN: 427\n",
      "Min Distance from :Springfield, IL to Salem, OR: 428\n",
      "Min Distance from :Springfield, IL to Salida, CO: 452\n",
      "Min Distance from :Springfield, IL to Tucson, AZ: 458\n",
      "Min Distance from :Springfield, IL to Springfield, OH: 474\n",
      "Min Distance from :Springfield, IL to Salina, KS: 506\n",
      "Min Distance from :Springfield, IL to Rocky Mount, NC: 507\n",
      "Min Distance from :Springfield, IL to West Palm Beach, FL: 528\n",
      "Min Distance from :Springfield, IL to Warren, PA: 537\n",
      "Min Distance from :Springfield, IL to Wilmington, DE: 579\n",
      "Min Distance from :Springfield, IL to Salt Lake City, UT: 628\n",
      "Min Distance from :Springfield, IL to Wichita Falls, TX: 679\n",
      "Min Distance from :Springfield, IL to Regina, SA: 695\n"
     ]
    }
   ],
   "source": [
    "a= dijstra(G,\"Springfield, IL\")"
   ]
  },
  {
   "cell_type": "code",
   "execution_count": 11,
   "id": "4b92aa7d",
   "metadata": {},
   "outputs": [],
   "source": [
    "def path(G, source, destination):\n",
    "    distance_btw = np.ones((distance_matrix.shape[0],distance_matrix.shape[0]))*sys.maxsize\n",
    "    for i in range(distance_matrix.shape[0]):\n",
    "        for j in range(i):\n",
    "            if distance_matrix[i][j]<=100:\n",
    "                G.add_edge(key_list[node_list.index(i)],key_list[node_list.index(j)])\n",
    "                G[key_list[node_list.index(i)]][key_list[node_list.index(j)]][\"d\"]=distance_matrix[i][j]\n",
    "                distance_btw[i][j]=distance_matrix[i][j]\n",
    "                distance_btw[j][i]=distance_matrix[i][j]\n",
    "    row_values = np.sum(init_matrix, axis =1)\n",
    "    col_values = np.sum(init_matrix, axis = 0)\n",
    "    rv_zip = list(zip(row_values,[i for i in range(128)]))\n",
    "    cv_zip = list(zip(col_values,[i for i in range(128)]))\n",
    "    zero_values = set([j for i,j in rv_zip if i==0])\n",
    "    zero_col = set([j for i,j in cv_zip if i ==0])\n",
    "    get_edge = (zero_values.intersection(zero_col)) \n",
    "    for i in get_edge:\n",
    "        idx = np.argsort(distance_matrix[i])\n",
    "        G.add_edge(key_list[node_list.index(i)],key_list[node_list.index(idx[1])])\n",
    "        G[key_list[node_list.index(i)]][key_list[node_list.index(idx[1])]][\"d\"]=distance_matrix[i][idx[1]]\n",
    "        distance_btw[i][idx[1]]=distance_matrix[i][idx[1]]\n",
    "        distance_btw[idx[1]][i]= distance_matrix[i][idx[1]]\n",
    "        prev_matrix = distance_btw\n",
    "    distance_btw = np.fill_diagonal(distance_btw,0)\n",
    "    \n",
    "    #main function starts.....\n",
    "    for k in range(len(G.nodes)):\n",
    "        new_matrix = prev_matrix.copy()\n",
    "        for i in range(len(G.nodes)):\n",
    "            for j in range(len(G.nodes)):\n",
    "                if prev_matrix[i][j]> prev_matrix[i][k]+ prev_matrix[k][j]:\n",
    "                    new_matrix[i][j]= prev_matrix[i][k]+ prev_matrix[k][j]\n",
    "        prev_matrix = new_matrix\n",
    "    print(\"The minimum distance from \"+ str(source)+ \" to \"+ str(destination)+ \"is : \", prev_matrix[key_list.index(source)][key_list.index(destination)])\n",
    "    return prev_matrix"
   ]
  },
  {
   "cell_type": "code",
   "execution_count": 12,
   "id": "3490d279",
   "metadata": {},
   "outputs": [
    {
     "name": "stdout",
     "output_type": "stream",
     "text": [
      "The minimum distance from Reading, PA to Springfield, ILis :  72.0\n"
     ]
    }
   ],
   "source": [
    "output = path(G,\"Reading, PA\", \"Springfield, IL\")"
   ]
  },
  {
   "cell_type": "markdown",
   "id": "c12de66e",
   "metadata": {},
   "source": [
    "# Finding largest SP cost"
   ]
  },
  {
   "cell_type": "code",
   "execution_count": 13,
   "id": "8c479974",
   "metadata": {},
   "outputs": [
    {
     "name": "stdout",
     "output_type": "stream",
     "text": [
      "The minimum distance from Salt Lake City, UT to Regina, SAis :  1052.0\n"
     ]
    }
   ],
   "source": [
    "largest_spcost = 0\n",
    "for i in range(len(G.nodes)):\n",
    "    for j in range(len(G.nodes)):\n",
    "        if output[i][j]!= sys.maxsize and output[i][j]>largest_spcost:\n",
    "            largest_spcost = output[i][j]\n",
    "            source_node = i\n",
    "            destination_node = j\n",
    "print(\"The minimum distance from \"+ str(key_list[source_node])+ \" to \"+ str(key_list[destination_node])+ \"is : \", output[source_node][destination_node])"
   ]
  }
 ],
 "metadata": {
  "kernelspec": {
   "display_name": "Python 3 (ipykernel)",
   "language": "python",
   "name": "python3"
  },
  "language_info": {
   "codemirror_mode": {
    "name": "ipython",
    "version": 3
   },
   "file_extension": ".py",
   "mimetype": "text/x-python",
   "name": "python",
   "nbconvert_exporter": "python",
   "pygments_lexer": "ipython3",
   "version": "3.9.12"
  }
 },
 "nbformat": 4,
 "nbformat_minor": 5
}
